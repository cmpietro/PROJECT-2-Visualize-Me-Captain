{
 "cells": [
  {
   "cell_type": "code",
   "execution_count": 2,
   "metadata": {},
   "outputs": [],
   "source": [
    "import requests\n",
    "import json"
   ]
  },
  {
   "cell_type": "code",
   "execution_count": 3,
   "metadata": {},
   "outputs": [],
   "source": [
    "url = \"https://www.gunpolicy.org/index.php?option=com_api&app=gpodatapage&clientid=256&key=3e1a01bf63334cdb6bf3b583a8464839&resource=getcategorydata&category=number_of_homicides_any_method&location_id=10&format=raw\""
   ]
  },
  {
   "cell_type": "code",
   "execution_count": 4,
   "metadata": {},
   "outputs": [
    {
     "name": "stdout",
     "output_type": "stream",
     "text": [
      "<Response [200]>\n"
     ]
    }
   ],
   "source": [
    "print(requests.get(url))"
   ]
  },
  {
   "cell_type": "code",
   "execution_count": 5,
   "metadata": {},
   "outputs": [
    {
     "name": "stdout",
     "output_type": "stream",
     "text": [
      "{'result': {'id': '15', 'location_id': '10', 'location': 'Australia', 'columnValue': '2016: 244{q9177}; 2015: 265; 2014: 248; 2013: 248; 2012: 285{q9177} {q12091} {q8901}; 2011: 243{q9177} {q7379} {q12091} {q8901} {q6225} {q9635}; 2010: 244; 2009: 272; 2008: 251{q9177} {q7379} {q6476} {q8365} {q8901} {q6225}; 2007: 216; 2006: 256; 2005: 199; 2004: 164; 2003: 278{q7379} {q6476} {q8365} {q8901} {q6225}; 2002: 291; 2001: 300{q6476} {q8365} {q8901} {q6225}; 2000: 340{q8365} {q8901} {q6225}; 1999: 341{q8365} {q6225}; 1998: 312; 1997: 319; 1996: 358; 1995: 342; 1994: 342{q8365}; 1993: 360; 1992: 331; 1991: 351; 1990: 331;', 'columnPreamble': 'In #, annual homicides by any means total ~'}}\n"
     ]
    }
   ],
   "source": [
    "print(requests.get(url).json())"
   ]
  },
  {
   "cell_type": "code",
   "execution_count": 6,
   "metadata": {},
   "outputs": [
    {
     "name": "stdout",
     "output_type": "stream",
     "text": [
      "{\n",
      "    \"result\": {\n",
      "        \"columnPreamble\": \"In #, annual homicides by any means total ~\",\n",
      "        \"columnValue\": \"2016: 244{q9177}; 2015: 265; 2014: 248; 2013: 248; 2012: 285{q9177} {q12091} {q8901}; 2011: 243{q9177} {q7379} {q12091} {q8901} {q6225} {q9635}; 2010: 244; 2009: 272; 2008: 251{q9177} {q7379} {q6476} {q8365} {q8901} {q6225}; 2007: 216; 2006: 256; 2005: 199; 2004: 164; 2003: 278{q7379} {q6476} {q8365} {q8901} {q6225}; 2002: 291; 2001: 300{q6476} {q8365} {q8901} {q6225}; 2000: 340{q8365} {q8901} {q6225}; 1999: 341{q8365} {q6225}; 1998: 312; 1997: 319; 1996: 358; 1995: 342; 1994: 342{q8365}; 1993: 360; 1992: 331; 1991: 351; 1990: 331;\",\n",
      "        \"id\": \"15\",\n",
      "        \"location\": \"Australia\",\n",
      "        \"location_id\": \"10\"\n",
      "    }\n",
      "}\n"
     ]
    }
   ],
   "source": [
    "response = requests.get(url).json()\n",
    "print(json.dumps(response, indent=4, sort_keys=True))"
   ]
  },
  {
   "cell_type": "code",
   "execution_count": null,
   "metadata": {},
   "outputs": [],
   "source": []
  }
 ],
 "metadata": {
  "kernelspec": {
   "display_name": "Python 3",
   "language": "python",
   "name": "python3"
  },
  "language_info": {
   "codemirror_mode": {
    "name": "ipython",
    "version": 3
   },
   "file_extension": ".py",
   "mimetype": "text/x-python",
   "name": "python",
   "nbconvert_exporter": "python",
   "pygments_lexer": "ipython3",
   "version": "3.7.3"
  }
 },
 "nbformat": 4,
 "nbformat_minor": 2
}
